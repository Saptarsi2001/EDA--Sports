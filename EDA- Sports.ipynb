{
 "cells": [
  {
   "cell_type": "markdown",
   "source": "# EDA- Sports",
   "metadata": {
    "formattedRanges": [],
    "cell_id": "a9823a647a5e467ea8ac7fe8dd056ec6",
    "tags": [],
    "is_collapsed": false,
    "deepnote_cell_type": "text-cell-h1"
   }
  },
  {
   "cell_type": "markdown",
   "source": "**Done By- Saptarsi Bhattacharjee**",
   "metadata": {
    "cell_id": "380b5aac4323446598c986181b60b853",
    "tags": [],
    "deepnote_cell_type": "markdown",
    "deepnote_cell_height": 52.390625
   }
  },
  {
   "cell_type": "markdown",
   "source": "**Aim:**\n1. Find out most sucessful teams, players and\n2. factors contributing win or loss of a team",
   "metadata": {
    "cell_id": "9218cae6bb1c4184bb6e8ac6b423d2d3",
    "tags": [],
    "deepnote_cell_type": "markdown",
    "deepnote_cell_height": 128.1875
   }
  },
  {
   "cell_type": "code",
   "metadata": {
    "cell_id": "244a99ae1bd14bc79afaf3634b96870c",
    "tags": [],
    "deepnote_to_be_reexecuted": false,
    "source_hash": "d6f0b40f",
    "execution_start": 1658393808946,
    "execution_millis": 7976,
    "deepnote_cell_type": "code",
    "deepnote_cell_height": 135
   },
   "source": "import pandas as pd\nimport matplotlib.pyplot as plt\nimport seaborn as sns\nimport numpy as np",
   "execution_count": 1,
   "outputs": []
  },
  {
   "cell_type": "code",
   "metadata": {
    "cell_id": "fa37ed83930e4fcc8433b6987b69a0e5",
    "tags": [],
    "deepnote_to_be_reexecuted": false,
    "source_hash": "f00a2745",
    "execution_start": 1658393816946,
    "execution_millis": 415,
    "deepnote_cell_type": "code",
    "deepnote_cell_height": 429.796875
   },
   "source": "match=pd.read_csv(\"/work/matches.csv\")\nmatch.head()",
   "execution_count": 2,
   "outputs": [
    {
     "output_type": "execute_result",
     "execution_count": 2,
     "data": {
      "application/vnd.deepnote.dataframe.v3+json": {
       "column_count": 18,
       "row_count": 5,
       "columns": [
        {
         "name": "id",
         "dtype": "int64",
         "stats": {
          "unique_count": 5,
          "nan_count": 0,
          "min": "1",
          "max": "5",
          "histogram": [
           {
            "bin_start": 1,
            "bin_end": 1.4,
            "count": 1
           },
           {
            "bin_start": 1.4,
            "bin_end": 1.8,
            "count": 0
           },
           {
            "bin_start": 1.8,
            "bin_end": 2.2,
            "count": 1
           },
           {
            "bin_start": 2.2,
            "bin_end": 2.6,
            "count": 0
           },
           {
            "bin_start": 2.6,
            "bin_end": 3,
            "count": 0
           },
           {
            "bin_start": 3,
            "bin_end": 3.4000000000000004,
            "count": 1
           },
           {
            "bin_start": 3.4000000000000004,
            "bin_end": 3.8000000000000003,
            "count": 0
           },
           {
            "bin_start": 3.8000000000000003,
            "bin_end": 4.2,
            "count": 1
           },
           {
            "bin_start": 4.2,
            "bin_end": 4.6,
            "count": 0
           },
           {
            "bin_start": 4.6,
            "bin_end": 5,
            "count": 1
           }
          ]
         }
        },
        {
         "name": "season",
         "dtype": "int64",
         "stats": {
          "unique_count": 1,
          "nan_count": 0,
          "min": "2017",
          "max": "2017",
          "histogram": [
           {
            "bin_start": 2016.5,
            "bin_end": 2016.6,
            "count": 0
           },
           {
            "bin_start": 2016.6,
            "bin_end": 2016.7,
            "count": 0
           },
           {
            "bin_start": 2016.7,
            "bin_end": 2016.8,
            "count": 0
           },
           {
            "bin_start": 2016.8,
            "bin_end": 2016.9,
            "count": 0
           },
           {
            "bin_start": 2016.9,
            "bin_end": 2017,
            "count": 0
           },
           {
            "bin_start": 2017,
            "bin_end": 2017.1,
            "count": 5
           },
           {
            "bin_start": 2017.1,
            "bin_end": 2017.2,
            "count": 0
           },
           {
            "bin_start": 2017.2,
            "bin_end": 2017.3,
            "count": 0
           },
           {
            "bin_start": 2017.3,
            "bin_end": 2017.4,
            "count": 0
           },
           {
            "bin_start": 2017.4,
            "bin_end": 2017.5,
            "count": 0
           }
          ]
         }
        },
        {
         "name": "city",
         "dtype": "object",
         "stats": {
          "unique_count": 5,
          "nan_count": 0,
          "categories": [
           {
            "name": "Hyderabad",
            "count": 1
           },
           {
            "name": "Pune",
            "count": 1
           },
           {
            "name": "3 others",
            "count": 3
           }
          ]
         }
        },
        {
         "name": "date",
         "dtype": "object",
         "stats": {
          "unique_count": 4,
          "nan_count": 0,
          "categories": [
           {
            "name": "2017-04-08",
            "count": 2
           },
           {
            "name": "2017-04-05",
            "count": 1
           },
           {
            "name": "2 others",
            "count": 2
           }
          ]
         }
        },
        {
         "name": "team1",
         "dtype": "object",
         "stats": {
          "unique_count": 5,
          "nan_count": 0,
          "categories": [
           {
            "name": "Sunrisers Hyderabad",
            "count": 1
           },
           {
            "name": "Mumbai Indians",
            "count": 1
           },
           {
            "name": "3 others",
            "count": 3
           }
          ]
         }
        },
        {
         "name": "team2",
         "dtype": "object",
         "stats": {
          "unique_count": 5,
          "nan_count": 0,
          "categories": [
           {
            "name": "Royal Challengers Bangalore",
            "count": 1
           },
           {
            "name": "Rising Pune Supergiant",
            "count": 1
           },
           {
            "name": "3 others",
            "count": 3
           }
          ]
         }
        },
        {
         "name": "toss_winner",
         "dtype": "object",
         "stats": {
          "unique_count": 4,
          "nan_count": 0,
          "categories": [
           {
            "name": "Royal Challengers Bangalore",
            "count": 2
           },
           {
            "name": "Rising Pune Supergiant",
            "count": 1
           },
           {
            "name": "2 others",
            "count": 2
           }
          ]
         }
        },
        {
         "name": "toss_decision",
         "dtype": "object",
         "stats": {
          "unique_count": 2,
          "nan_count": 0,
          "categories": [
           {
            "name": "field",
            "count": 4
           },
           {
            "name": "bat",
            "count": 1
           }
          ]
         }
        },
        {
         "name": "result",
         "dtype": "object",
         "stats": {
          "unique_count": 1,
          "nan_count": 0,
          "categories": [
           {
            "name": "normal",
            "count": 5
           }
          ]
         }
        },
        {
         "name": "dl_applied",
         "dtype": "int64",
         "stats": {
          "unique_count": 1,
          "nan_count": 0,
          "min": "0",
          "max": "0",
          "histogram": [
           {
            "bin_start": -0.5,
            "bin_end": -0.4,
            "count": 0
           },
           {
            "bin_start": -0.4,
            "bin_end": -0.3,
            "count": 0
           },
           {
            "bin_start": -0.3,
            "bin_end": -0.19999999999999996,
            "count": 0
           },
           {
            "bin_start": -0.19999999999999996,
            "bin_end": -0.09999999999999998,
            "count": 0
           },
           {
            "bin_start": -0.09999999999999998,
            "bin_end": 0,
            "count": 0
           },
           {
            "bin_start": 0,
            "bin_end": 0.10000000000000009,
            "count": 5
           },
           {
            "bin_start": 0.10000000000000009,
            "bin_end": 0.20000000000000007,
            "count": 0
           },
           {
            "bin_start": 0.20000000000000007,
            "bin_end": 0.30000000000000004,
            "count": 0
           },
           {
            "bin_start": 0.30000000000000004,
            "bin_end": 0.4,
            "count": 0
           },
           {
            "bin_start": 0.4,
            "bin_end": 0.5,
            "count": 0
           }
          ]
         }
        },
        {
         "name": "winner",
         "dtype": "object",
         "stats": {
          "unique_count": 5,
          "nan_count": 0,
          "categories": [
           {
            "name": "Sunrisers Hyderabad",
            "count": 1
           },
           {
            "name": "Rising Pune Supergiant",
            "count": 1
           },
           {
            "name": "3 others",
            "count": 3
           }
          ]
         }
        },
        {
         "name": "win_by_runs",
         "dtype": "int64",
         "stats": {
          "unique_count": 3,
          "nan_count": 0,
          "min": "0",
          "max": "35",
          "histogram": [
           {
            "bin_start": 0,
            "bin_end": 3.5,
            "count": 3
           },
           {
            "bin_start": 3.5,
            "bin_end": 7,
            "count": 0
           },
           {
            "bin_start": 7,
            "bin_end": 10.5,
            "count": 0
           },
           {
            "bin_start": 10.5,
            "bin_end": 14,
            "count": 0
           },
           {
            "bin_start": 14,
            "bin_end": 17.5,
            "count": 1
           },
           {
            "bin_start": 17.5,
            "bin_end": 21,
            "count": 0
           },
           {
            "bin_start": 21,
            "bin_end": 24.5,
            "count": 0
           },
           {
            "bin_start": 24.5,
            "bin_end": 28,
            "count": 0
           },
           {
            "bin_start": 28,
            "bin_end": 31.5,
            "count": 0
           },
           {
            "bin_start": 31.5,
            "bin_end": 35,
            "count": 1
           }
          ]
         }
        },
        {
         "name": "win_by_wickets",
         "dtype": "int64",
         "stats": {
          "unique_count": 4,
          "nan_count": 0,
          "min": "0",
          "max": "10",
          "histogram": [
           {
            "bin_start": 0,
            "bin_end": 1,
            "count": 2
           },
           {
            "bin_start": 1,
            "bin_end": 2,
            "count": 0
           },
           {
            "bin_start": 2,
            "bin_end": 3,
            "count": 0
           },
           {
            "bin_start": 3,
            "bin_end": 4,
            "count": 0
           },
           {
            "bin_start": 4,
            "bin_end": 5,
            "count": 0
           },
           {
            "bin_start": 5,
            "bin_end": 6,
            "count": 0
           },
           {
            "bin_start": 6,
            "bin_end": 7,
            "count": 1
           },
           {
            "bin_start": 7,
            "bin_end": 8,
            "count": 1
           },
           {
            "bin_start": 8,
            "bin_end": 9,
            "count": 0
           },
           {
            "bin_start": 9,
            "bin_end": 10,
            "count": 1
           }
          ]
         }
        },
        {
         "name": "player_of_match",
         "dtype": "object",
         "stats": {
          "unique_count": 5,
          "nan_count": 0,
          "categories": [
           {
            "name": "Yuvraj Singh",
            "count": 1
           },
           {
            "name": "SPD Smith",
            "count": 1
           },
           {
            "name": "3 others",
            "count": 3
           }
          ]
         }
        },
        {
         "name": "venue",
         "dtype": "object",
         "stats": {
          "unique_count": 5,
          "nan_count": 0,
          "categories": [
           {
            "name": "Rajiv Gandhi International Stadium, Uppal",
            "count": 1
           },
           {
            "name": "Maharashtra Cricket Association Stadium",
            "count": 1
           },
           {
            "name": "3 others",
            "count": 3
           }
          ]
         }
        },
        {
         "name": "umpire1",
         "dtype": "object",
         "stats": {
          "unique_count": 4,
          "nan_count": 1,
          "categories": [
           {
            "name": "AY Dandekar",
            "count": 1
           },
           {
            "name": "3 others",
            "count": 3
           },
           {
            "name": "Missing",
            "count": 1
           }
          ]
         }
        },
        {
         "name": "umpire2",
         "dtype": "object",
         "stats": {
          "unique_count": 4,
          "nan_count": 1,
          "categories": [
           {
            "name": "NJ Llong",
            "count": 1
           },
           {
            "name": "3 others",
            "count": 3
           },
           {
            "name": "Missing",
            "count": 1
           }
          ]
         }
        },
        {
         "name": "umpire3",
         "dtype": "object",
         "stats": {
          "unique_count": 0,
          "nan_count": 5,
          "categories": [
           {
            "name": "Missing",
            "count": 5
           }
          ]
         }
        },
        {
         "name": "_deepnote_index_column",
         "dtype": "int64"
        }
       ],
       "rows": [
        {
         "id": 1,
         "season": 2017,
         "city": "Hyderabad",
         "date": "2017-04-05",
         "team1": "Sunrisers Hyderabad",
         "team2": "Royal Challengers Bangalore",
         "toss_winner": "Royal Challengers Bangalore",
         "toss_decision": "field",
         "result": "normal",
         "dl_applied": 0,
         "winner": "Sunrisers Hyderabad",
         "win_by_runs": 35,
         "win_by_wickets": 0,
         "player_of_match": "Yuvraj Singh",
         "venue": "Rajiv Gandhi International Stadium, Uppal",
         "umpire1": "AY Dandekar",
         "umpire2": "NJ Llong",
         "umpire3": "nan",
         "_deepnote_index_column": 0
        },
        {
         "id": 2,
         "season": 2017,
         "city": "Pune",
         "date": "2017-04-06",
         "team1": "Mumbai Indians",
         "team2": "Rising Pune Supergiant",
         "toss_winner": "Rising Pune Supergiant",
         "toss_decision": "field",
         "result": "normal",
         "dl_applied": 0,
         "winner": "Rising Pune Supergiant",
         "win_by_runs": 0,
         "win_by_wickets": 7,
         "player_of_match": "SPD Smith",
         "venue": "Maharashtra Cricket Association Stadium",
         "umpire1": "A Nand Kishore",
         "umpire2": "S Ravi",
         "umpire3": "nan",
         "_deepnote_index_column": 1
        },
        {
         "id": 3,
         "season": 2017,
         "city": "Rajkot",
         "date": "2017-04-07",
         "team1": "Gujarat Lions",
         "team2": "Kolkata Knight Riders",
         "toss_winner": "Kolkata Knight Riders",
         "toss_decision": "field",
         "result": "normal",
         "dl_applied": 0,
         "winner": "Kolkata Knight Riders",
         "win_by_runs": 0,
         "win_by_wickets": 10,
         "player_of_match": "CA Lynn",
         "venue": "Saurashtra Cricket Association Stadium",
         "umpire1": "Nitin Menon",
         "umpire2": "CK Nandan",
         "umpire3": "nan",
         "_deepnote_index_column": 2
        },
        {
         "id": 4,
         "season": 2017,
         "city": "Indore",
         "date": "2017-04-08",
         "team1": "Rising Pune Supergiant",
         "team2": "Kings XI Punjab",
         "toss_winner": "Kings XI Punjab",
         "toss_decision": "field",
         "result": "normal",
         "dl_applied": 0,
         "winner": "Kings XI Punjab",
         "win_by_runs": 0,
         "win_by_wickets": 6,
         "player_of_match": "GJ Maxwell",
         "venue": "Holkar Cricket Stadium",
         "umpire1": "AK Chaudhary",
         "umpire2": "C Shamshuddin",
         "umpire3": "nan",
         "_deepnote_index_column": 3
        },
        {
         "id": 5,
         "season": 2017,
         "city": "Bangalore",
         "date": "2017-04-08",
         "team1": "Royal Challengers Bangalore",
         "team2": "Delhi Daredevils",
         "toss_winner": "Royal Challengers Bangalore",
         "toss_decision": "bat",
         "result": "normal",
         "dl_applied": 0,
         "winner": "Royal Challengers Bangalore",
         "win_by_runs": 15,
         "win_by_wickets": 0,
         "player_of_match": "KM Jadhav",
         "venue": "M Chinnaswamy Stadium",
         "umpire1": "nan",
         "umpire2": "nan",
         "umpire3": "nan",
         "_deepnote_index_column": 4
        }
       ]
      },
      "text/plain": "   id  season       city        date                        team1  \\\n0   1    2017  Hyderabad  2017-04-05          Sunrisers Hyderabad   \n1   2    2017       Pune  2017-04-06               Mumbai Indians   \n2   3    2017     Rajkot  2017-04-07                Gujarat Lions   \n3   4    2017     Indore  2017-04-08       Rising Pune Supergiant   \n4   5    2017  Bangalore  2017-04-08  Royal Challengers Bangalore   \n\n                         team2                  toss_winner toss_decision  \\\n0  Royal Challengers Bangalore  Royal Challengers Bangalore         field   \n1       Rising Pune Supergiant       Rising Pune Supergiant         field   \n2        Kolkata Knight Riders        Kolkata Knight Riders         field   \n3              Kings XI Punjab              Kings XI Punjab         field   \n4             Delhi Daredevils  Royal Challengers Bangalore           bat   \n\n   result  dl_applied                       winner  win_by_runs  \\\n0  normal           0          Sunrisers Hyderabad           35   \n1  normal           0       Rising Pune Supergiant            0   \n2  normal           0        Kolkata Knight Riders            0   \n3  normal           0              Kings XI Punjab            0   \n4  normal           0  Royal Challengers Bangalore           15   \n\n   win_by_wickets player_of_match                                      venue  \\\n0               0    Yuvraj Singh  Rajiv Gandhi International Stadium, Uppal   \n1               7       SPD Smith    Maharashtra Cricket Association Stadium   \n2              10         CA Lynn     Saurashtra Cricket Association Stadium   \n3               6      GJ Maxwell                     Holkar Cricket Stadium   \n4               0       KM Jadhav                      M Chinnaswamy Stadium   \n\n          umpire1        umpire2 umpire3  \n0     AY Dandekar       NJ Llong     NaN  \n1  A Nand Kishore         S Ravi     NaN  \n2     Nitin Menon      CK Nandan     NaN  \n3    AK Chaudhary  C Shamshuddin     NaN  \n4             NaN            NaN     NaN  ",
      "text/html": "<div>\n<style scoped>\n    .dataframe tbody tr th:only-of-type {\n        vertical-align: middle;\n    }\n\n    .dataframe tbody tr th {\n        vertical-align: top;\n    }\n\n    .dataframe thead th {\n        text-align: right;\n    }\n</style>\n<table border=\"1\" class=\"dataframe\">\n  <thead>\n    <tr style=\"text-align: right;\">\n      <th></th>\n      <th>id</th>\n      <th>season</th>\n      <th>city</th>\n      <th>date</th>\n      <th>team1</th>\n      <th>team2</th>\n      <th>toss_winner</th>\n      <th>toss_decision</th>\n      <th>result</th>\n      <th>dl_applied</th>\n      <th>winner</th>\n      <th>win_by_runs</th>\n      <th>win_by_wickets</th>\n      <th>player_of_match</th>\n      <th>venue</th>\n      <th>umpire1</th>\n      <th>umpire2</th>\n      <th>umpire3</th>\n    </tr>\n  </thead>\n  <tbody>\n    <tr>\n      <th>0</th>\n      <td>1</td>\n      <td>2017</td>\n      <td>Hyderabad</td>\n      <td>2017-04-05</td>\n      <td>Sunrisers Hyderabad</td>\n      <td>Royal Challengers Bangalore</td>\n      <td>Royal Challengers Bangalore</td>\n      <td>field</td>\n      <td>normal</td>\n      <td>0</td>\n      <td>Sunrisers Hyderabad</td>\n      <td>35</td>\n      <td>0</td>\n      <td>Yuvraj Singh</td>\n      <td>Rajiv Gandhi International Stadium, Uppal</td>\n      <td>AY Dandekar</td>\n      <td>NJ Llong</td>\n      <td>NaN</td>\n    </tr>\n    <tr>\n      <th>1</th>\n      <td>2</td>\n      <td>2017</td>\n      <td>Pune</td>\n      <td>2017-04-06</td>\n      <td>Mumbai Indians</td>\n      <td>Rising Pune Supergiant</td>\n      <td>Rising Pune Supergiant</td>\n      <td>field</td>\n      <td>normal</td>\n      <td>0</td>\n      <td>Rising Pune Supergiant</td>\n      <td>0</td>\n      <td>7</td>\n      <td>SPD Smith</td>\n      <td>Maharashtra Cricket Association Stadium</td>\n      <td>A Nand Kishore</td>\n      <td>S Ravi</td>\n      <td>NaN</td>\n    </tr>\n    <tr>\n      <th>2</th>\n      <td>3</td>\n      <td>2017</td>\n      <td>Rajkot</td>\n      <td>2017-04-07</td>\n      <td>Gujarat Lions</td>\n      <td>Kolkata Knight Riders</td>\n      <td>Kolkata Knight Riders</td>\n      <td>field</td>\n      <td>normal</td>\n      <td>0</td>\n      <td>Kolkata Knight Riders</td>\n      <td>0</td>\n      <td>10</td>\n      <td>CA Lynn</td>\n      <td>Saurashtra Cricket Association Stadium</td>\n      <td>Nitin Menon</td>\n      <td>CK Nandan</td>\n      <td>NaN</td>\n    </tr>\n    <tr>\n      <th>3</th>\n      <td>4</td>\n      <td>2017</td>\n      <td>Indore</td>\n      <td>2017-04-08</td>\n      <td>Rising Pune Supergiant</td>\n      <td>Kings XI Punjab</td>\n      <td>Kings XI Punjab</td>\n      <td>field</td>\n      <td>normal</td>\n      <td>0</td>\n      <td>Kings XI Punjab</td>\n      <td>0</td>\n      <td>6</td>\n      <td>GJ Maxwell</td>\n      <td>Holkar Cricket Stadium</td>\n      <td>AK Chaudhary</td>\n      <td>C Shamshuddin</td>\n      <td>NaN</td>\n    </tr>\n    <tr>\n      <th>4</th>\n      <td>5</td>\n      <td>2017</td>\n      <td>Bangalore</td>\n      <td>2017-04-08</td>\n      <td>Royal Challengers Bangalore</td>\n      <td>Delhi Daredevils</td>\n      <td>Royal Challengers Bangalore</td>\n      <td>bat</td>\n      <td>normal</td>\n      <td>0</td>\n      <td>Royal Challengers Bangalore</td>\n      <td>15</td>\n      <td>0</td>\n      <td>KM Jadhav</td>\n      <td>M Chinnaswamy Stadium</td>\n      <td>NaN</td>\n      <td>NaN</td>\n      <td>NaN</td>\n    </tr>\n  </tbody>\n</table>\n</div>"
     },
     "metadata": {}
    }
   ]
  },
  {
   "cell_type": "code",
   "metadata": {
    "cell_id": "c745a79b4f5b4c39b64fe238934a1db1",
    "tags": [],
    "deepnote_to_be_reexecuted": false,
    "source_hash": "9c9e464a",
    "execution_start": 1658393817338,
    "execution_millis": 36,
    "deepnote_cell_type": "code",
    "deepnote_cell_height": 464,
    "deepnote_output_heights": [
     367
    ]
   },
   "source": "match.isnull().sum()",
   "execution_count": 3,
   "outputs": [
    {
     "output_type": "execute_result",
     "execution_count": 3,
     "data": {
      "text/plain": "id                   0\nseason               0\ncity                 7\ndate                 0\nteam1                0\nteam2                0\ntoss_winner          0\ntoss_decision        0\nresult               0\ndl_applied           0\nwinner               4\nwin_by_runs          0\nwin_by_wickets       0\nplayer_of_match      4\nvenue                0\numpire1              2\numpire2              2\numpire3            637\ndtype: int64"
     },
     "metadata": {}
    }
   ]
  },
  {
   "cell_type": "code",
   "metadata": {
    "cell_id": "dc63162e512240d5b7b508bfb939cdbc",
    "tags": [],
    "deepnote_to_be_reexecuted": false,
    "source_hash": "2fbfeae6",
    "execution_start": 1658393817401,
    "execution_millis": 117531313,
    "deepnote_cell_type": "code",
    "deepnote_cell_height": 118.1875,
    "deepnote_output_heights": [
     21
    ]
   },
   "source": "match.shape",
   "execution_count": 4,
   "outputs": [
    {
     "output_type": "execute_result",
     "execution_count": 4,
     "data": {
      "text/plain": "(756, 18)"
     },
     "metadata": {}
    }
   ]
  },
  {
   "cell_type": "code",
   "metadata": {
    "cell_id": "2f824a688351400da1bb59f84f9be940",
    "tags": [],
    "deepnote_to_be_reexecuted": false,
    "source_hash": "d6ccad29",
    "execution_start": 1658393817463,
    "execution_millis": 1740,
    "deepnote_cell_type": "code",
    "deepnote_cell_height": 430
   },
   "source": "deli=pd.read_csv(\"/work/deliveries.csv\")\ndeli.head()",
   "execution_count": 5,
   "outputs": [
    {
     "output_type": "execute_result",
     "execution_count": 5,
     "data": {
      "application/vnd.deepnote.dataframe.v3+json": {
       "column_count": 21,
       "row_count": 5,
       "columns": [
        {
         "name": "match_id",
         "dtype": "int64",
         "stats": {
          "unique_count": 1,
          "nan_count": 0,
          "min": "1",
          "max": "1",
          "histogram": [
           {
            "bin_start": 0.5,
            "bin_end": 0.6,
            "count": 0
           },
           {
            "bin_start": 0.6,
            "bin_end": 0.7,
            "count": 0
           },
           {
            "bin_start": 0.7,
            "bin_end": 0.8,
            "count": 0
           },
           {
            "bin_start": 0.8,
            "bin_end": 0.9,
            "count": 0
           },
           {
            "bin_start": 0.9,
            "bin_end": 1,
            "count": 0
           },
           {
            "bin_start": 1,
            "bin_end": 1.1,
            "count": 5
           },
           {
            "bin_start": 1.1,
            "bin_end": 1.2000000000000002,
            "count": 0
           },
           {
            "bin_start": 1.2000000000000002,
            "bin_end": 1.3,
            "count": 0
           },
           {
            "bin_start": 1.3,
            "bin_end": 1.4,
            "count": 0
           },
           {
            "bin_start": 1.4,
            "bin_end": 1.5,
            "count": 0
           }
          ]
         }
        },
        {
         "name": "inning",
         "dtype": "int64",
         "stats": {
          "unique_count": 1,
          "nan_count": 0,
          "min": "1",
          "max": "1",
          "histogram": [
           {
            "bin_start": 0.5,
            "bin_end": 0.6,
            "count": 0
           },
           {
            "bin_start": 0.6,
            "bin_end": 0.7,
            "count": 0
           },
           {
            "bin_start": 0.7,
            "bin_end": 0.8,
            "count": 0
           },
           {
            "bin_start": 0.8,
            "bin_end": 0.9,
            "count": 0
           },
           {
            "bin_start": 0.9,
            "bin_end": 1,
            "count": 0
           },
           {
            "bin_start": 1,
            "bin_end": 1.1,
            "count": 5
           },
           {
            "bin_start": 1.1,
            "bin_end": 1.2000000000000002,
            "count": 0
           },
           {
            "bin_start": 1.2000000000000002,
            "bin_end": 1.3,
            "count": 0
           },
           {
            "bin_start": 1.3,
            "bin_end": 1.4,
            "count": 0
           },
           {
            "bin_start": 1.4,
            "bin_end": 1.5,
            "count": 0
           }
          ]
         }
        },
        {
         "name": "batting_team",
         "dtype": "object",
         "stats": {
          "unique_count": 1,
          "nan_count": 0,
          "categories": [
           {
            "name": "Sunrisers Hyderabad",
            "count": 5
           }
          ]
         }
        },
        {
         "name": "bowling_team",
         "dtype": "object",
         "stats": {
          "unique_count": 1,
          "nan_count": 0,
          "categories": [
           {
            "name": "Royal Challengers Bangalore",
            "count": 5
           }
          ]
         }
        },
        {
         "name": "over",
         "dtype": "int64",
         "stats": {
          "unique_count": 1,
          "nan_count": 0,
          "min": "1",
          "max": "1",
          "histogram": [
           {
            "bin_start": 0.5,
            "bin_end": 0.6,
            "count": 0
           },
           {
            "bin_start": 0.6,
            "bin_end": 0.7,
            "count": 0
           },
           {
            "bin_start": 0.7,
            "bin_end": 0.8,
            "count": 0
           },
           {
            "bin_start": 0.8,
            "bin_end": 0.9,
            "count": 0
           },
           {
            "bin_start": 0.9,
            "bin_end": 1,
            "count": 0
           },
           {
            "bin_start": 1,
            "bin_end": 1.1,
            "count": 5
           },
           {
            "bin_start": 1.1,
            "bin_end": 1.2000000000000002,
            "count": 0
           },
           {
            "bin_start": 1.2000000000000002,
            "bin_end": 1.3,
            "count": 0
           },
           {
            "bin_start": 1.3,
            "bin_end": 1.4,
            "count": 0
           },
           {
            "bin_start": 1.4,
            "bin_end": 1.5,
            "count": 0
           }
          ]
         }
        },
        {
         "name": "ball",
         "dtype": "int64",
         "stats": {
          "unique_count": 5,
          "nan_count": 0,
          "min": "1",
          "max": "5",
          "histogram": [
           {
            "bin_start": 1,
            "bin_end": 1.4,
            "count": 1
           },
           {
            "bin_start": 1.4,
            "bin_end": 1.8,
            "count": 0
           },
           {
            "bin_start": 1.8,
            "bin_end": 2.2,
            "count": 1
           },
           {
            "bin_start": 2.2,
            "bin_end": 2.6,
            "count": 0
           },
           {
            "bin_start": 2.6,
            "bin_end": 3,
            "count": 0
           },
           {
            "bin_start": 3,
            "bin_end": 3.4000000000000004,
            "count": 1
           },
           {
            "bin_start": 3.4000000000000004,
            "bin_end": 3.8000000000000003,
            "count": 0
           },
           {
            "bin_start": 3.8000000000000003,
            "bin_end": 4.2,
            "count": 1
           },
           {
            "bin_start": 4.2,
            "bin_end": 4.6,
            "count": 0
           },
           {
            "bin_start": 4.6,
            "bin_end": 5,
            "count": 1
           }
          ]
         }
        },
        {
         "name": "batsman",
         "dtype": "object",
         "stats": {
          "unique_count": 1,
          "nan_count": 0,
          "categories": [
           {
            "name": "DA Warner",
            "count": 5
           }
          ]
         }
        },
        {
         "name": "non_striker",
         "dtype": "object",
         "stats": {
          "unique_count": 1,
          "nan_count": 0,
          "categories": [
           {
            "name": "S Dhawan",
            "count": 5
           }
          ]
         }
        },
        {
         "name": "bowler",
         "dtype": "object",
         "stats": {
          "unique_count": 1,
          "nan_count": 0,
          "categories": [
           {
            "name": "TS Mills",
            "count": 5
           }
          ]
         }
        },
        {
         "name": "is_super_over",
         "dtype": "int64",
         "stats": {
          "unique_count": 1,
          "nan_count": 0,
          "min": "0",
          "max": "0",
          "histogram": [
           {
            "bin_start": -0.5,
            "bin_end": -0.4,
            "count": 0
           },
           {
            "bin_start": -0.4,
            "bin_end": -0.3,
            "count": 0
           },
           {
            "bin_start": -0.3,
            "bin_end": -0.19999999999999996,
            "count": 0
           },
           {
            "bin_start": -0.19999999999999996,
            "bin_end": -0.09999999999999998,
            "count": 0
           },
           {
            "bin_start": -0.09999999999999998,
            "bin_end": 0,
            "count": 0
           },
           {
            "bin_start": 0,
            "bin_end": 0.10000000000000009,
            "count": 5
           },
           {
            "bin_start": 0.10000000000000009,
            "bin_end": 0.20000000000000007,
            "count": 0
           },
           {
            "bin_start": 0.20000000000000007,
            "bin_end": 0.30000000000000004,
            "count": 0
           },
           {
            "bin_start": 0.30000000000000004,
            "bin_end": 0.4,
            "count": 0
           },
           {
            "bin_start": 0.4,
            "bin_end": 0.5,
            "count": 0
           }
          ]
         }
        },
        {
         "name": "wide_runs",
         "dtype": "int64",
         "stats": {
          "unique_count": 2,
          "nan_count": 0,
          "min": "0",
          "max": "2",
          "histogram": [
           {
            "bin_start": 0,
            "bin_end": 0.2,
            "count": 4
           },
           {
            "bin_start": 0.2,
            "bin_end": 0.4,
            "count": 0
           },
           {
            "bin_start": 0.4,
            "bin_end": 0.6000000000000001,
            "count": 0
           },
           {
            "bin_start": 0.6000000000000001,
            "bin_end": 0.8,
            "count": 0
           },
           {
            "bin_start": 0.8,
            "bin_end": 1,
            "count": 0
           },
           {
            "bin_start": 1,
            "bin_end": 1.2000000000000002,
            "count": 0
           },
           {
            "bin_start": 1.2000000000000002,
            "bin_end": 1.4000000000000001,
            "count": 0
           },
           {
            "bin_start": 1.4000000000000001,
            "bin_end": 1.6,
            "count": 0
           },
           {
            "bin_start": 1.6,
            "bin_end": 1.8,
            "count": 0
           },
           {
            "bin_start": 1.8,
            "bin_end": 2,
            "count": 1
           }
          ]
         }
        },
        {
         "name": "bye_runs",
         "dtype": "int64",
         "stats": {
          "unique_count": 1,
          "nan_count": 0,
          "min": "0",
          "max": "0",
          "histogram": [
           {
            "bin_start": -0.5,
            "bin_end": -0.4,
            "count": 0
           },
           {
            "bin_start": -0.4,
            "bin_end": -0.3,
            "count": 0
           },
           {
            "bin_start": -0.3,
            "bin_end": -0.19999999999999996,
            "count": 0
           },
           {
            "bin_start": -0.19999999999999996,
            "bin_end": -0.09999999999999998,
            "count": 0
           },
           {
            "bin_start": -0.09999999999999998,
            "bin_end": 0,
            "count": 0
           },
           {
            "bin_start": 0,
            "bin_end": 0.10000000000000009,
            "count": 5
           },
           {
            "bin_start": 0.10000000000000009,
            "bin_end": 0.20000000000000007,
            "count": 0
           },
           {
            "bin_start": 0.20000000000000007,
            "bin_end": 0.30000000000000004,
            "count": 0
           },
           {
            "bin_start": 0.30000000000000004,
            "bin_end": 0.4,
            "count": 0
           },
           {
            "bin_start": 0.4,
            "bin_end": 0.5,
            "count": 0
           }
          ]
         }
        },
        {
         "name": "legbye_runs",
         "dtype": "int64",
         "stats": {
          "unique_count": 1,
          "nan_count": 0,
          "min": "0",
          "max": "0",
          "histogram": [
           {
            "bin_start": -0.5,
            "bin_end": -0.4,
            "count": 0
           },
           {
            "bin_start": -0.4,
            "bin_end": -0.3,
            "count": 0
           },
           {
            "bin_start": -0.3,
            "bin_end": -0.19999999999999996,
            "count": 0
           },
           {
            "bin_start": -0.19999999999999996,
            "bin_end": -0.09999999999999998,
            "count": 0
           },
           {
            "bin_start": -0.09999999999999998,
            "bin_end": 0,
            "count": 0
           },
           {
            "bin_start": 0,
            "bin_end": 0.10000000000000009,
            "count": 5
           },
           {
            "bin_start": 0.10000000000000009,
            "bin_end": 0.20000000000000007,
            "count": 0
           },
           {
            "bin_start": 0.20000000000000007,
            "bin_end": 0.30000000000000004,
            "count": 0
           },
           {
            "bin_start": 0.30000000000000004,
            "bin_end": 0.4,
            "count": 0
           },
           {
            "bin_start": 0.4,
            "bin_end": 0.5,
            "count": 0
           }
          ]
         }
        },
        {
         "name": "noball_runs",
         "dtype": "int64",
         "stats": {
          "unique_count": 1,
          "nan_count": 0,
          "min": "0",
          "max": "0",
          "histogram": [
           {
            "bin_start": -0.5,
            "bin_end": -0.4,
            "count": 0
           },
           {
            "bin_start": -0.4,
            "bin_end": -0.3,
            "count": 0
           },
           {
            "bin_start": -0.3,
            "bin_end": -0.19999999999999996,
            "count": 0
           },
           {
            "bin_start": -0.19999999999999996,
            "bin_end": -0.09999999999999998,
            "count": 0
           },
           {
            "bin_start": -0.09999999999999998,
            "bin_end": 0,
            "count": 0
           },
           {
            "bin_start": 0,
            "bin_end": 0.10000000000000009,
            "count": 5
           },
           {
            "bin_start": 0.10000000000000009,
            "bin_end": 0.20000000000000007,
            "count": 0
           },
           {
            "bin_start": 0.20000000000000007,
            "bin_end": 0.30000000000000004,
            "count": 0
           },
           {
            "bin_start": 0.30000000000000004,
            "bin_end": 0.4,
            "count": 0
           },
           {
            "bin_start": 0.4,
            "bin_end": 0.5,
            "count": 0
           }
          ]
         }
        },
        {
         "name": "penalty_runs",
         "dtype": "int64",
         "stats": {
          "unique_count": 1,
          "nan_count": 0,
          "min": "0",
          "max": "0",
          "histogram": [
           {
            "bin_start": -0.5,
            "bin_end": -0.4,
            "count": 0
           },
           {
            "bin_start": -0.4,
            "bin_end": -0.3,
            "count": 0
           },
           {
            "bin_start": -0.3,
            "bin_end": -0.19999999999999996,
            "count": 0
           },
           {
            "bin_start": -0.19999999999999996,
            "bin_end": -0.09999999999999998,
            "count": 0
           },
           {
            "bin_start": -0.09999999999999998,
            "bin_end": 0,
            "count": 0
           },
           {
            "bin_start": 0,
            "bin_end": 0.10000000000000009,
            "count": 5
           },
           {
            "bin_start": 0.10000000000000009,
            "bin_end": 0.20000000000000007,
            "count": 0
           },
           {
            "bin_start": 0.20000000000000007,
            "bin_end": 0.30000000000000004,
            "count": 0
           },
           {
            "bin_start": 0.30000000000000004,
            "bin_end": 0.4,
            "count": 0
           },
           {
            "bin_start": 0.4,
            "bin_end": 0.5,
            "count": 0
           }
          ]
         }
        },
        {
         "name": "batsman_runs",
         "dtype": "int64",
         "stats": {
          "unique_count": 2,
          "nan_count": 0,
          "min": "0",
          "max": "4",
          "histogram": [
           {
            "bin_start": 0,
            "bin_end": 0.4,
            "count": 4
           },
           {
            "bin_start": 0.4,
            "bin_end": 0.8,
            "count": 0
           },
           {
            "bin_start": 0.8,
            "bin_end": 1.2000000000000002,
            "count": 0
           },
           {
            "bin_start": 1.2000000000000002,
            "bin_end": 1.6,
            "count": 0
           },
           {
            "bin_start": 1.6,
            "bin_end": 2,
            "count": 0
           },
           {
            "bin_start": 2,
            "bin_end": 2.4000000000000004,
            "count": 0
           },
           {
            "bin_start": 2.4000000000000004,
            "bin_end": 2.8000000000000003,
            "count": 0
           },
           {
            "bin_start": 2.8000000000000003,
            "bin_end": 3.2,
            "count": 0
           },
           {
            "bin_start": 3.2,
            "bin_end": 3.6,
            "count": 0
           },
           {
            "bin_start": 3.6,
            "bin_end": 4,
            "count": 1
           }
          ]
         }
        },
        {
         "name": "extra_runs",
         "dtype": "int64",
         "stats": {
          "unique_count": 2,
          "nan_count": 0,
          "min": "0",
          "max": "2",
          "histogram": [
           {
            "bin_start": 0,
            "bin_end": 0.2,
            "count": 4
           },
           {
            "bin_start": 0.2,
            "bin_end": 0.4,
            "count": 0
           },
           {
            "bin_start": 0.4,
            "bin_end": 0.6000000000000001,
            "count": 0
           },
           {
            "bin_start": 0.6000000000000001,
            "bin_end": 0.8,
            "count": 0
           },
           {
            "bin_start": 0.8,
            "bin_end": 1,
            "count": 0
           },
           {
            "bin_start": 1,
            "bin_end": 1.2000000000000002,
            "count": 0
           },
           {
            "bin_start": 1.2000000000000002,
            "bin_end": 1.4000000000000001,
            "count": 0
           },
           {
            "bin_start": 1.4000000000000001,
            "bin_end": 1.6,
            "count": 0
           },
           {
            "bin_start": 1.6,
            "bin_end": 1.8,
            "count": 0
           },
           {
            "bin_start": 1.8,
            "bin_end": 2,
            "count": 1
           }
          ]
         }
        },
        {
         "name": "total_runs",
         "dtype": "int64",
         "stats": {
          "unique_count": 3,
          "nan_count": 0,
          "min": "0",
          "max": "4",
          "histogram": [
           {
            "bin_start": 0,
            "bin_end": 0.4,
            "count": 3
           },
           {
            "bin_start": 0.4,
            "bin_end": 0.8,
            "count": 0
           },
           {
            "bin_start": 0.8,
            "bin_end": 1.2000000000000002,
            "count": 0
           },
           {
            "bin_start": 1.2000000000000002,
            "bin_end": 1.6,
            "count": 0
           },
           {
            "bin_start": 1.6,
            "bin_end": 2,
            "count": 0
           },
           {
            "bin_start": 2,
            "bin_end": 2.4000000000000004,
            "count": 1
           },
           {
            "bin_start": 2.4000000000000004,
            "bin_end": 2.8000000000000003,
            "count": 0
           },
           {
            "bin_start": 2.8000000000000003,
            "bin_end": 3.2,
            "count": 0
           },
           {
            "bin_start": 3.2,
            "bin_end": 3.6,
            "count": 0
           },
           {
            "bin_start": 3.6,
            "bin_end": 4,
            "count": 1
           }
          ]
         }
        },
        {
         "name": "player_dismissed",
         "dtype": "object",
         "stats": {
          "unique_count": 0,
          "nan_count": 5,
          "categories": [
           {
            "name": "Missing",
            "count": 5
           }
          ]
         }
        },
        {
         "name": "dismissal_kind",
         "dtype": "object",
         "stats": {
          "unique_count": 0,
          "nan_count": 5,
          "categories": [
           {
            "name": "Missing",
            "count": 5
           }
          ]
         }
        },
        {
         "name": "fielder",
         "dtype": "object",
         "stats": {
          "unique_count": 0,
          "nan_count": 5,
          "categories": [
           {
            "name": "Missing",
            "count": 5
           }
          ]
         }
        },
        {
         "name": "_deepnote_index_column",
         "dtype": "int64"
        }
       ],
       "rows": [
        {
         "match_id": 1,
         "inning": 1,
         "batting_team": "Sunrisers Hyderabad",
         "bowling_team": "Royal Challengers Bangalore",
         "over": 1,
         "ball": 1,
         "batsman": "DA Warner",
         "non_striker": "S Dhawan",
         "bowler": "TS Mills",
         "is_super_over": 0,
         "wide_runs": 0,
         "bye_runs": 0,
         "legbye_runs": 0,
         "noball_runs": 0,
         "penalty_runs": 0,
         "batsman_runs": 0,
         "extra_runs": 0,
         "total_runs": 0,
         "player_dismissed": "nan",
         "dismissal_kind": "nan",
         "fielder": "nan",
         "_deepnote_index_column": 0
        },
        {
         "match_id": 1,
         "inning": 1,
         "batting_team": "Sunrisers Hyderabad",
         "bowling_team": "Royal Challengers Bangalore",
         "over": 1,
         "ball": 2,
         "batsman": "DA Warner",
         "non_striker": "S Dhawan",
         "bowler": "TS Mills",
         "is_super_over": 0,
         "wide_runs": 0,
         "bye_runs": 0,
         "legbye_runs": 0,
         "noball_runs": 0,
         "penalty_runs": 0,
         "batsman_runs": 0,
         "extra_runs": 0,
         "total_runs": 0,
         "player_dismissed": "nan",
         "dismissal_kind": "nan",
         "fielder": "nan",
         "_deepnote_index_column": 1
        },
        {
         "match_id": 1,
         "inning": 1,
         "batting_team": "Sunrisers Hyderabad",
         "bowling_team": "Royal Challengers Bangalore",
         "over": 1,
         "ball": 3,
         "batsman": "DA Warner",
         "non_striker": "S Dhawan",
         "bowler": "TS Mills",
         "is_super_over": 0,
         "wide_runs": 0,
         "bye_runs": 0,
         "legbye_runs": 0,
         "noball_runs": 0,
         "penalty_runs": 0,
         "batsman_runs": 4,
         "extra_runs": 0,
         "total_runs": 4,
         "player_dismissed": "nan",
         "dismissal_kind": "nan",
         "fielder": "nan",
         "_deepnote_index_column": 2
        },
        {
         "match_id": 1,
         "inning": 1,
         "batting_team": "Sunrisers Hyderabad",
         "bowling_team": "Royal Challengers Bangalore",
         "over": 1,
         "ball": 4,
         "batsman": "DA Warner",
         "non_striker": "S Dhawan",
         "bowler": "TS Mills",
         "is_super_over": 0,
         "wide_runs": 0,
         "bye_runs": 0,
         "legbye_runs": 0,
         "noball_runs": 0,
         "penalty_runs": 0,
         "batsman_runs": 0,
         "extra_runs": 0,
         "total_runs": 0,
         "player_dismissed": "nan",
         "dismissal_kind": "nan",
         "fielder": "nan",
         "_deepnote_index_column": 3
        },
        {
         "match_id": 1,
         "inning": 1,
         "batting_team": "Sunrisers Hyderabad",
         "bowling_team": "Royal Challengers Bangalore",
         "over": 1,
         "ball": 5,
         "batsman": "DA Warner",
         "non_striker": "S Dhawan",
         "bowler": "TS Mills",
         "is_super_over": 0,
         "wide_runs": 2,
         "bye_runs": 0,
         "legbye_runs": 0,
         "noball_runs": 0,
         "penalty_runs": 0,
         "batsman_runs": 0,
         "extra_runs": 2,
         "total_runs": 2,
         "player_dismissed": "nan",
         "dismissal_kind": "nan",
         "fielder": "nan",
         "_deepnote_index_column": 4
        }
       ]
      },
      "text/plain": "   match_id  inning         batting_team                 bowling_team  over  \\\n0         1       1  Sunrisers Hyderabad  Royal Challengers Bangalore     1   \n1         1       1  Sunrisers Hyderabad  Royal Challengers Bangalore     1   \n2         1       1  Sunrisers Hyderabad  Royal Challengers Bangalore     1   \n3         1       1  Sunrisers Hyderabad  Royal Challengers Bangalore     1   \n4         1       1  Sunrisers Hyderabad  Royal Challengers Bangalore     1   \n\n   ball    batsman non_striker    bowler  is_super_over  ...  bye_runs  \\\n0     1  DA Warner    S Dhawan  TS Mills              0  ...         0   \n1     2  DA Warner    S Dhawan  TS Mills              0  ...         0   \n2     3  DA Warner    S Dhawan  TS Mills              0  ...         0   \n3     4  DA Warner    S Dhawan  TS Mills              0  ...         0   \n4     5  DA Warner    S Dhawan  TS Mills              0  ...         0   \n\n   legbye_runs  noball_runs  penalty_runs  batsman_runs  extra_runs  \\\n0            0            0             0             0           0   \n1            0            0             0             0           0   \n2            0            0             0             4           0   \n3            0            0             0             0           0   \n4            0            0             0             0           2   \n\n   total_runs  player_dismissed dismissal_kind fielder  \n0           0               NaN            NaN     NaN  \n1           0               NaN            NaN     NaN  \n2           4               NaN            NaN     NaN  \n3           0               NaN            NaN     NaN  \n4           2               NaN            NaN     NaN  \n\n[5 rows x 21 columns]",
      "text/html": "<div>\n<style scoped>\n    .dataframe tbody tr th:only-of-type {\n        vertical-align: middle;\n    }\n\n    .dataframe tbody tr th {\n        vertical-align: top;\n    }\n\n    .dataframe thead th {\n        text-align: right;\n    }\n</style>\n<table border=\"1\" class=\"dataframe\">\n  <thead>\n    <tr style=\"text-align: right;\">\n      <th></th>\n      <th>match_id</th>\n      <th>inning</th>\n      <th>batting_team</th>\n      <th>bowling_team</th>\n      <th>over</th>\n      <th>ball</th>\n      <th>batsman</th>\n      <th>non_striker</th>\n      <th>bowler</th>\n      <th>is_super_over</th>\n      <th>...</th>\n      <th>bye_runs</th>\n      <th>legbye_runs</th>\n      <th>noball_runs</th>\n      <th>penalty_runs</th>\n      <th>batsman_runs</th>\n      <th>extra_runs</th>\n      <th>total_runs</th>\n      <th>player_dismissed</th>\n      <th>dismissal_kind</th>\n      <th>fielder</th>\n    </tr>\n  </thead>\n  <tbody>\n    <tr>\n      <th>0</th>\n      <td>1</td>\n      <td>1</td>\n      <td>Sunrisers Hyderabad</td>\n      <td>Royal Challengers Bangalore</td>\n      <td>1</td>\n      <td>1</td>\n      <td>DA Warner</td>\n      <td>S Dhawan</td>\n      <td>TS Mills</td>\n      <td>0</td>\n      <td>...</td>\n      <td>0</td>\n      <td>0</td>\n      <td>0</td>\n      <td>0</td>\n      <td>0</td>\n      <td>0</td>\n      <td>0</td>\n      <td>NaN</td>\n      <td>NaN</td>\n      <td>NaN</td>\n    </tr>\n    <tr>\n      <th>1</th>\n      <td>1</td>\n      <td>1</td>\n      <td>Sunrisers Hyderabad</td>\n      <td>Royal Challengers Bangalore</td>\n      <td>1</td>\n      <td>2</td>\n      <td>DA Warner</td>\n      <td>S Dhawan</td>\n      <td>TS Mills</td>\n      <td>0</td>\n      <td>...</td>\n      <td>0</td>\n      <td>0</td>\n      <td>0</td>\n      <td>0</td>\n      <td>0</td>\n      <td>0</td>\n      <td>0</td>\n      <td>NaN</td>\n      <td>NaN</td>\n      <td>NaN</td>\n    </tr>\n    <tr>\n      <th>2</th>\n      <td>1</td>\n      <td>1</td>\n      <td>Sunrisers Hyderabad</td>\n      <td>Royal Challengers Bangalore</td>\n      <td>1</td>\n      <td>3</td>\n      <td>DA Warner</td>\n      <td>S Dhawan</td>\n      <td>TS Mills</td>\n      <td>0</td>\n      <td>...</td>\n      <td>0</td>\n      <td>0</td>\n      <td>0</td>\n      <td>0</td>\n      <td>4</td>\n      <td>0</td>\n      <td>4</td>\n      <td>NaN</td>\n      <td>NaN</td>\n      <td>NaN</td>\n    </tr>\n    <tr>\n      <th>3</th>\n      <td>1</td>\n      <td>1</td>\n      <td>Sunrisers Hyderabad</td>\n      <td>Royal Challengers Bangalore</td>\n      <td>1</td>\n      <td>4</td>\n      <td>DA Warner</td>\n      <td>S Dhawan</td>\n      <td>TS Mills</td>\n      <td>0</td>\n      <td>...</td>\n      <td>0</td>\n      <td>0</td>\n      <td>0</td>\n      <td>0</td>\n      <td>0</td>\n      <td>0</td>\n      <td>0</td>\n      <td>NaN</td>\n      <td>NaN</td>\n      <td>NaN</td>\n    </tr>\n    <tr>\n      <th>4</th>\n      <td>1</td>\n      <td>1</td>\n      <td>Sunrisers Hyderabad</td>\n      <td>Royal Challengers Bangalore</td>\n      <td>1</td>\n      <td>5</td>\n      <td>DA Warner</td>\n      <td>S Dhawan</td>\n      <td>TS Mills</td>\n      <td>0</td>\n      <td>...</td>\n      <td>0</td>\n      <td>0</td>\n      <td>0</td>\n      <td>0</td>\n      <td>0</td>\n      <td>2</td>\n      <td>2</td>\n      <td>NaN</td>\n      <td>NaN</td>\n      <td>NaN</td>\n    </tr>\n  </tbody>\n</table>\n<p>5 rows × 21 columns</p>\n</div>"
     },
     "metadata": {}
    }
   ]
  },
  {
   "cell_type": "code",
   "metadata": {
    "cell_id": "faf140e5fd5349f1b780597a9b5b7554",
    "tags": [],
    "deepnote_to_be_reexecuted": false,
    "source_hash": "3d45a773",
    "execution_start": 1658393819242,
    "execution_millis": 8,
    "deepnote_cell_type": "code",
    "deepnote_cell_height": 118.1875,
    "deepnote_output_heights": [
     21.1875
    ]
   },
   "source": "deli.shape",
   "execution_count": 6,
   "outputs": [
    {
     "output_type": "execute_result",
     "execution_count": 6,
     "data": {
      "text/plain": "(179078, 21)"
     },
     "metadata": {}
    }
   ]
  },
  {
   "cell_type": "code",
   "metadata": {
    "cell_id": "62c2a3e4c06540c69210d4629759bb92",
    "tags": [],
    "deepnote_to_be_reexecuted": false,
    "source_hash": "cba0b3fd",
    "execution_start": 1658393819295,
    "execution_millis": 878,
    "deepnote_cell_type": "code",
    "deepnote_cell_height": 521.375,
    "deepnote_output_heights": [
     424.390625
    ]
   },
   "source": "deli.isnull().sum()",
   "execution_count": 7,
   "outputs": [
    {
     "output_type": "execute_result",
     "execution_count": 7,
     "data": {
      "text/plain": "match_id                 0\ninning                   0\nbatting_team             0\nbowling_team             0\nover                     0\nball                     0\nbatsman                  0\nnon_striker              0\nbowler                   0\nis_super_over            0\nwide_runs                0\nbye_runs                 0\nlegbye_runs              0\nnoball_runs              0\npenalty_runs             0\nbatsman_runs             0\nextra_runs               0\ntotal_runs               0\nplayer_dismissed    170244\ndismissal_kind      170244\nfielder             172630\ndtype: int64"
     },
     "metadata": {}
    }
   ]
  },
  {
   "cell_type": "markdown",
   "source": "## Basic Analysis:",
   "metadata": {
    "formattedRanges": [],
    "cell_id": "7823ec4aa8744f078ac63d1e9f9d3e1d",
    "tags": [],
    "is_collapsed": false,
    "deepnote_cell_type": "text-cell-h2"
   }
  },
  {
   "cell_type": "code",
   "metadata": {
    "cell_id": "53a78cdd9422441bb6106c14f6ef786d",
    "tags": [],
    "deepnote_to_be_reexecuted": false,
    "source_hash": "aa9b6e4a",
    "execution_start": 1658393819816,
    "execution_millis": 11,
    "deepnote_cell_type": "code",
    "deepnote_cell_height": 112
   },
   "source": "print(f'Total Matches played: {match.shape[0]}')",
   "execution_count": 8,
   "outputs": [
    {
     "name": "stdout",
     "text": "Total Matches played: 756\n",
     "output_type": "stream"
    }
   ]
  },
  {
   "cell_type": "code",
   "metadata": {
    "cell_id": "5bdbf20a66714dbfb70233b55ccee36b",
    "tags": [],
    "deepnote_to_be_reexecuted": false,
    "source_hash": "cf456b9d",
    "execution_start": 1658393819914,
    "execution_millis": 1,
    "deepnote_cell_type": "code",
    "deepnote_cell_height": 212
   },
   "source": "print(f'ALL TEAMS: {match[\"team1\"].unique()}')",
   "execution_count": 9,
   "outputs": [
    {
     "name": "stdout",
     "text": "ALL TEAMS: ['Sunrisers Hyderabad' 'Mumbai Indians' 'Gujarat Lions'\n 'Rising Pune Supergiant' 'Royal Challengers Bangalore'\n 'Kolkata Knight Riders' 'Delhi Daredevils' 'Kings XI Punjab'\n 'Chennai Super Kings' 'Rajasthan Royals' 'Deccan Chargers'\n 'Kochi Tuskers Kerala' 'Pune Warriors' 'Rising Pune Supergiants'\n 'Delhi Capitals']\n",
     "output_type": "stream"
    }
   ]
  },
  {
   "cell_type": "code",
   "metadata": {
    "cell_id": "2e4bdcbfbb394cf9808ff450b47df4b8",
    "tags": [],
    "deepnote_to_be_reexecuted": false,
    "source_hash": "237ac2ea",
    "execution_start": 1658393819992,
    "execution_millis": 183,
    "deepnote_cell_type": "code",
    "deepnote_cell_height": 130
   },
   "source": "a=match['id'].max()\nprint(\"Number of total matches : \",a)",
   "execution_count": 10,
   "outputs": [
    {
     "name": "stdout",
     "text": "Number of total matches :  11415\n",
     "output_type": "stream"
    }
   ]
  },
  {
   "cell_type": "code",
   "metadata": {
    "cell_id": "8243d09c71324e37aa2a0d5df58d0c0f",
    "tags": [],
    "deepnote_to_be_reexecuted": false,
    "source_hash": "ef6ce93",
    "execution_start": 1658393820103,
    "execution_millis": 117532307,
    "deepnote_cell_type": "code",
    "deepnote_cell_height": 112
   },
   "source": "print(f'Highest Man of the Matches: {match[\"player_of_match\"].value_counts().idxmax()}')",
   "execution_count": 11,
   "outputs": [
    {
     "name": "stdout",
     "text": "Highest Man of the Matches: CH Gayle\n",
     "output_type": "stream"
    }
   ]
  },
  {
   "cell_type": "code",
   "metadata": {
    "cell_id": "43273592f2114a07a9d7ee0c4cc377a3",
    "tags": [],
    "deepnote_to_be_reexecuted": false,
    "source_hash": "913ffd57",
    "execution_start": 1658393820191,
    "execution_millis": 117532294,
    "deepnote_cell_type": "code",
    "deepnote_cell_height": 112
   },
   "source": "print(f'Total times CH Gayle is man of the match: {match[\"player_of_match\"].value_counts().max()}')",
   "execution_count": 12,
   "outputs": [
    {
     "name": "stdout",
     "text": "Total times CH Gayle is man of the match: 21\n",
     "output_type": "stream"
    }
   ]
  },
  {
   "cell_type": "code",
   "metadata": {
    "cell_id": "e1786e5d267f47fca953c79026ab0037",
    "tags": [],
    "deepnote_to_be_reexecuted": false,
    "source_hash": "9888c06f",
    "execution_start": 1658393820291,
    "execution_millis": 117532480,
    "deepnote_cell_type": "code",
    "deepnote_cell_height": 112
   },
   "source": "print(f' Team with most wins: {match[\"winner\"].value_counts().idxmax()}')",
   "execution_count": 13,
   "outputs": [
    {
     "name": "stdout",
     "text": " Team with most wins: Mumbai Indians\n",
     "output_type": "stream"
    }
   ]
  },
  {
   "cell_type": "markdown",
   "source": "**Team wins by most runs**",
   "metadata": {
    "cell_id": "279b1b566c5049e2a9dca4576c6d0331",
    "tags": [],
    "deepnote_cell_type": "markdown",
    "deepnote_cell_height": 52.390625
   }
  },
  {
   "cell_type": "code",
   "metadata": {
    "cell_id": "5f6847a812a94d0eb2442a0be036314f",
    "tags": [],
    "deepnote_to_be_reexecuted": false,
    "source_hash": "68f8e7ab",
    "execution_start": 1658393820340,
    "execution_millis": 117532347,
    "deepnote_cell_type": "code",
    "deepnote_cell_height": 232.1875,
    "deepnote_output_heights": [
     117
    ]
   },
   "source": "df=match.iloc[match[\"win_by_runs\"].idxmax()]\ndf[[\"season\",\"team1\",\"team2\",\"winner\",\"win_by_runs\"]]",
   "execution_count": 14,
   "outputs": [
    {
     "output_type": "execute_result",
     "execution_count": 14,
     "data": {
      "text/plain": "season                     2017\nteam1            Mumbai Indians\nteam2          Delhi Daredevils\nwinner           Mumbai Indians\nwin_by_runs                 146\nName: 43, dtype: object"
     },
     "metadata": {}
    }
   ]
  },
  {
   "cell_type": "markdown",
   "source": "**team win by most wicket**",
   "metadata": {
    "cell_id": "9bda24123926487f8073f6148712e52b",
    "tags": [],
    "deepnote_cell_type": "markdown",
    "deepnote_cell_height": 52.390625
   }
  },
  {
   "cell_type": "code",
   "metadata": {
    "cell_id": "d3c69a0600804866b1075e5a56c3a27a",
    "tags": [],
    "deepnote_to_be_reexecuted": false,
    "source_hash": "2e974d40",
    "execution_start": 1658393820427,
    "execution_millis": 112742461,
    "deepnote_cell_type": "code",
    "deepnote_cell_height": 286.1875,
    "deepnote_output_heights": [
     117
    ]
   },
   "source": "df=match.iloc[match[\"win_by_wickets\"].idxmax()]\ndf[[\"season\",\"team1\",\"team2\",\"winner\",\"win_by_wickets\"]]\n\n# Or to show only the team name- \n# match.iloc[match[\"win_by_wickets\"].idxmax()][\"winner\"]",
   "execution_count": 15,
   "outputs": [
    {
     "output_type": "execute_result",
     "execution_count": 15,
     "data": {
      "text/plain": "season                             2017\nteam1                     Gujarat Lions\nteam2             Kolkata Knight Riders\nwinner            Kolkata Knight Riders\nwin_by_wickets                       10\nName: 2, dtype: object"
     },
     "metadata": {}
    }
   ]
  },
  {
   "cell_type": "markdown",
   "source": "# Data Visualization:",
   "metadata": {
    "formattedRanges": [],
    "cell_id": "69184c1724af44e687056909a6f166be",
    "tags": [],
    "is_collapsed": false,
    "deepnote_cell_type": "text-cell-h1"
   }
  },
  {
   "cell_type": "markdown",
   "source": "**Season in which most number of matches are played**",
   "metadata": {
    "cell_id": "dcab14cf65df43dea7f87e6b5f0209ec",
    "tags": [],
    "deepnote_cell_type": "markdown",
    "deepnote_cell_height": 52.390625
   }
  },
  {
   "cell_type": "code",
   "metadata": {
    "cell_id": "90be714965f0420b89a946dc87ad78a9",
    "tags": [],
    "deepnote_to_be_reexecuted": false,
    "source_hash": "aa89c2c1",
    "execution_start": 1658393820471,
    "execution_millis": 1309,
    "deepnote_cell_type": "code",
    "deepnote_cell_height": 614,
    "deepnote_output_heights": [
     418
    ]
   },
   "source": "plt.figure(figsize=(15,7))\nsns.countplot(x=\"season\", data=match, palette=\"Accent\")\nplt.xlabel(\"Season\")\nplt.ylabel(\"No of Matches\")\n\nplt.show()",
   "execution_count": 16,
   "outputs": [
    {
     "data": {
      "text/plain": "<Figure size 1080x504 with 1 Axes>",
      "image/png": "[encoded data removed]"
     },
     "metadata": {
      "needs_background": "light",
      "image/png": {
       "width": 885,
       "height": 425
      }
     },
     "output_type": "display_data"
    }
   ]
  },
  {
   "cell_type": "markdown",
   "source": "**Cities where most matches are occured**",
   "metadata": {
    "cell_id": "0dc1a400faf148329724dc26fd7ff826",
    "tags": [],
    "deepnote_cell_type": "markdown",
    "deepnote_cell_height": 52.390625
   }
  },
  {
   "cell_type": "code",
   "metadata": {
    "cell_id": "b8b0743396fc46ab8e3498eec8862fee",
    "tags": [],
    "deepnote_to_be_reexecuted": false,
    "source_hash": "d7d096ab",
    "execution_start": 1658393821838,
    "execution_millis": 1093,
    "deepnote_cell_type": "code",
    "deepnote_cell_height": 682,
    "deepnote_output_heights": [
     481
    ]
   },
   "source": "plt.figure(figsize=(15,7))\nsns.countplot(x=\"city\", data=match, palette=\"BuPu_r\")\nplt.xlabel(\"City\")\nplt.ylabel(\"No of Matches\")\nplt.xticks(rotation=90)\nplt.show()",
   "execution_count": 17,
   "outputs": [
    {
     "data": {
      "text/plain": "<Figure size 1080x504 with 1 Axes>",
      "image/png": "[encoded data removed]"
     },
     "metadata": {
      "needs_background": "light",
      "image/png": {
       "width": 891,
       "height": 493
      }
     },
     "output_type": "display_data"
    }
   ]
  },
  {
   "cell_type": "markdown",
   "source": "**Toss Decision- Bat/Ball**",
   "metadata": {
    "cell_id": "2349b5ab5ba5433cb1252732dcde6b30",
    "tags": [],
    "deepnote_cell_type": "markdown",
    "deepnote_cell_height": 52.390625
   }
  },
  {
   "cell_type": "code",
   "metadata": {
    "cell_id": "2b5675958c9542708fe0364753aa9d01",
    "tags": [],
    "deepnote_to_be_reexecuted": false,
    "source_hash": "89668d63",
    "execution_start": 1658393822965,
    "execution_millis": 258,
    "deepnote_cell_type": "code",
    "deepnote_cell_height": 647,
    "deepnote_output_heights": [
     388
    ]
   },
   "source": "category_name=[\"Ball First\",\"Bat First\"]\n\ncustom_colours = ['#ff7675', '#74b9ff']\n\nplt.figure(figsize=(2,2), dpi=226)   #dpi=display pixel per inch\nplt.pie(match[\"toss_decision\"].value_counts(),labels=category_name,textprops={\"fontsize\":6},autopct=\"%1.2f%%\", explode=[0,0.05])\n# autopct = format for % label\n# explode =distance of pie slice\n\nplt.show()",
   "execution_count": 18,
   "outputs": [
    {
     "data": {
      "text/plain": "<Figure size 452x452 with 1 Axes>",
      "image/png": "[encoded data removed]"
     },
     "metadata": {
      "image/png": {
       "width": 386,
       "height": 386
      }
     },
     "output_type": "display_data"
    }
   ]
  },
  {
   "cell_type": "markdown",
   "source": "**Toss Decision across Seasons**",
   "metadata": {
    "cell_id": "87cde7ed87c54f9fb9964eb4d4066ba6",
    "tags": [],
    "deepnote_cell_type": "markdown",
    "deepnote_cell_height": 52.390625
   }
  },
  {
   "cell_type": "code",
   "metadata": {
    "cell_id": "b579542a312a403d80ded3a9f3949893",
    "tags": [],
    "deepnote_to_be_reexecuted": false,
    "source_hash": "b5720f2f",
    "execution_start": 1658393823299,
    "execution_millis": 666,
    "deepnote_cell_type": "code",
    "deepnote_cell_height": 506,
    "deepnote_output_heights": [
     373
    ]
   },
   "source": "plt.subplots(figsize=(13,6))\nsns.countplot(x=\"season\",hue=\"toss_decision\",data=match)\nplt.show()",
   "execution_count": 19,
   "outputs": [
    {
     "data": {
      "text/plain": "<Figure size 936x432 with 1 Axes>",
      "image/png": "[encoded data removed]"
     },
     "metadata": {
      "needs_background": "light",
      "image/png": {
       "width": 773,
       "height": 371
      }
     },
     "output_type": "display_data"
    }
   ]
  },
  {
   "cell_type": "markdown",
   "source": "**Do the teams win the matches after winning toss**",
   "metadata": {
    "cell_id": "43d3b00d8f524c19a7acbd90eaf98d15",
    "tags": [],
    "deepnote_cell_type": "markdown",
    "deepnote_cell_height": 52.390625
   }
  },
  {
   "cell_type": "code",
   "metadata": {
    "cell_id": "5869b6a035ff41e7a1f2797ec890971c",
    "tags": [],
    "deepnote_to_be_reexecuted": false,
    "source_hash": "ecf84719",
    "execution_start": 1658393824272,
    "execution_millis": 224,
    "deepnote_cell_type": "code",
    "deepnote_cell_height": 683,
    "deepnote_output_heights": [
     388
    ]
   },
   "source": "winner= [match['toss_winner']==match['winner']]\ntotal_times_toss_winner_won_match = sum(winner[0][:])\ntotal_times_toss_winner_not_won_match = len(winner[0]) - total_times_toss_winner_won_match\n\ncategories=[\"Yes\",\"No\"]\nsizes = [total_times_toss_winner_won_match, total_times_toss_winner_not_won_match]\n\nplt.figure(figsize=(2,2), dpi=226)   \nplt.pie(sizes,labels=categories,textprops={\"fontsize\":6},autopct=\"%1.2f%%\", explode=[0,0.05])\n\nplt.show()\n",
   "execution_count": 20,
   "outputs": [
    {
     "data": {
      "text/plain": "<Figure size 452x452 with 1 Axes>",
      "image/png": "[encoded data removed]"
     },
     "metadata": {
      "image/png": {
       "width": 386,
       "height": 386
      }
     },
     "output_type": "display_data"
    }
   ]
  },
  {
   "cell_type": "code",
   "metadata": {
    "cell_id": "fa5b1942498f4387b49e06d485e23d98",
    "tags": [],
    "deepnote_to_be_reexecuted": false,
    "source_hash": "e3e84eb",
    "execution_start": 1658393824513,
    "execution_millis": 1191,
    "deepnote_cell_type": "code",
    "deepnote_cell_height": 469,
    "deepnote_output_heights": [
     354
    ]
   },
   "source": "sns.displot(match[\"win_by_runs\"],color=\"green\")\nplt.show()",
   "execution_count": 21,
   "outputs": [
    {
     "data": {
      "text/plain": "<Figure size 360x360 with 1 Axes>",
      "image/png": "[encoded data removed]"
     },
     "metadata": {
      "needs_background": "light",
      "image/png": {
       "width": 352,
       "height": 352
      }
     },
     "output_type": "display_data"
    }
   ]
  },
  {
   "cell_type": "code",
   "metadata": {
    "cell_id": "fd1ad668df714ef7a87ce5799d87e599",
    "tags": [],
    "deepnote_to_be_reexecuted": false,
    "source_hash": "1cea2219",
    "execution_start": 1658393825474,
    "execution_millis": 390,
    "owner_user_id": "3a18bccb-15c1-40eb-ba28-d8fc79e5d0f6",
    "deepnote_cell_type": "code",
    "deepnote_cell_height": 688,
    "deepnote_output_heights": [
     382
    ]
   },
   "source": "# Extracting the records whre a team won batting first\n\nbatting_fst=match[match[\"win_by_runs\"]!=0]\n\n# Match wins by runs \n\nplt.figure(figsize=(15,6))\nplt.hist(batting_fst[\"win_by_runs\"])\nplt.title(\" No of Matches vs Runs \",fontsize=17, fontweight=\"bold\")\nplt.xlabel(\"Runs\")\nplt.ylabel(\"No of Matches\")\nplt.show()",
   "execution_count": 22,
   "outputs": [
    {
     "data": {
      "text/plain": "<Figure size 1080x432 with 1 Axes>",
      "image/png": "[encoded data removed]"
     },
     "metadata": {
      "needs_background": "light",
      "image/png": {
       "width": 891,
       "height": 391
      }
     },
     "output_type": "display_data"
    }
   ]
  },
  {
   "cell_type": "markdown",
   "source": "**Frequency of wins w.r.t number of wickets**",
   "metadata": {
    "cell_id": "9bf62465ac1b48a08941ebe0247939c3",
    "tags": [],
    "deepnote_cell_type": "markdown",
    "deepnote_cell_height": 52.390625
   }
  },
  {
   "cell_type": "code",
   "metadata": {
    "cell_id": "d533d37130a4447db1391fc6796daaba",
    "tags": [],
    "deepnote_to_be_reexecuted": false,
    "source_hash": "5f95a151",
    "execution_start": 1658393825910,
    "execution_millis": 614,
    "deepnote_cell_type": "code",
    "deepnote_cell_height": 562,
    "deepnote_output_heights": [
     357
    ]
   },
   "source": "# Extracting the records whre a team won 2nd batting \nbatting_2nd=match[match[\"win_by_wickets\"]!=0]\n\n\nplt.figure(figsize=(15,6))\nplt.hist(batting_2nd[\"win_by_wickets\"],bins=30)\nplt.show()",
   "execution_count": 23,
   "outputs": [
    {
     "data": {
      "text/plain": "<Figure size 1080x432 with 1 Axes>",
      "image/png": "[encoded data removed]"
     },
     "metadata": {
      "needs_background": "light",
      "image/png": {
       "width": 871,
       "height": 357
      }
     },
     "output_type": "display_data"
    }
   ]
  },
  {
   "cell_type": "markdown",
   "source": "**Number of Marches won by the teams**",
   "metadata": {
    "cell_id": "6a725b4db24842b9a1d1369a08715b7c",
    "tags": [],
    "deepnote_cell_type": "markdown",
    "deepnote_cell_height": 52.390625
   }
  },
  {
   "cell_type": "code",
   "metadata": {
    "cell_id": "5b1606587d3d42729c16e4555e9a9b82",
    "tags": [],
    "deepnote_to_be_reexecuted": false,
    "source_hash": "be25e981",
    "execution_start": 1658393826594,
    "execution_millis": 784,
    "deepnote_cell_type": "code",
    "deepnote_cell_height": 693,
    "deepnote_output_heights": [
     452
    ]
   },
   "source": "plt.figure(figsize=(10,5))\n\nsns.countplot(x='winner', data=match, palette='cool')\n\nplt.xlabel('Team Names')\nplt.ylabel('N of Matches')\nplt.xticks(rotation=90)\n\nplt.show()",
   "execution_count": 24,
   "outputs": [
    {
     "data": {
      "text/plain": "<Figure size 720x360 with 1 Axes>",
      "image/png": "[encoded data removed]"
     },
     "metadata": {
      "needs_background": "light",
      "image/png": {
       "width": 612,
       "height": 450
      }
     },
     "output_type": "display_data"
    }
   ]
  },
  {
   "cell_type": "markdown",
   "source": "**Sixes and fours across the season**",
   "metadata": {
    "cell_id": "18154e115a444cb4ac25cbfa87213b1d",
    "tags": [],
    "deepnote_cell_type": "markdown",
    "deepnote_cell_height": 52.390625
   }
  },
  {
   "cell_type": "code",
   "metadata": {
    "cell_id": "8445f8039de44126bfacb990b0674f3a",
    "tags": [],
    "deepnote_to_be_reexecuted": false,
    "source_hash": "ea3dfd86",
    "execution_start": 1658393827423,
    "execution_millis": 457,
    "deepnote_cell_type": "code",
    "deepnote_cell_height": 135
   },
   "source": "# Merging matches and deliveries dataset by referencing the id and match_id columns\n\ndf_runs =match[['id', 'season']].merge(deli, left_on='id', right_on='match_id',\n                                               how='left').drop('id', axis=1)",
   "execution_count": 25,
   "outputs": []
  },
  {
   "cell_type": "code",
   "metadata": {
    "cell_id": "f56755e014b646edbdf46d3ad1180ee8",
    "tags": [],
    "deepnote_to_be_reexecuted": false,
    "source_hash": "5ebd95d",
    "execution_start": 1658393827902,
    "execution_millis": 800,
    "deepnote_cell_type": "code",
    "deepnote_cell_height": 560,
    "deepnote_output_heights": [
     319
    ]
   },
   "source": "boundaries = df_runs.groupby('season')['batsman_runs'].agg(lambda x: (x==6).sum()).reset_index()\nfours = df_runs.groupby('season')['batsman_runs'].agg(lambda x: (x==4).sum()).reset_index()\n\nboundaries = boundaries.merge(fours, left_on='season', right_on='season', how='left')\nboundaries = boundaries.rename(columns={'batsman_runs_x': '6s', 'batsman_runs_y': '4s'})\nboundaries.set_index('season')[['6s','4s']].plot(marker='o')\n\nplt.gcf().set_size_inches(10,5)\nplt.show()",
   "execution_count": 26,
   "outputs": [
    {
     "data": {
      "text/plain": "<Figure size 720x360 with 1 Axes>",
      "image/png": "[encoded data removed]"
     },
     "metadata": {
      "needs_background": "light",
      "image/png": {
       "width": 604,
       "height": 317
      }
     },
     "output_type": "display_data"
    }
   ]
  },
  {
   "cell_type": "markdown",
   "source": "**Runs across the season**",
   "metadata": {
    "cell_id": "a46eb3443c684eb689e78a7971a6cfc6",
    "tags": [],
    "deepnote_cell_type": "markdown",
    "deepnote_cell_height": 52.390625
   }
  },
  {
   "cell_type": "code",
   "metadata": {
    "cell_id": "6774762075a648c49c60b4955d64351d",
    "tags": [],
    "deepnote_to_be_reexecuted": false,
    "source_hash": "62121a07",
    "execution_start": 1658393828447,
    "execution_millis": 475,
    "deepnote_cell_type": "code",
    "deepnote_cell_height": 558,
    "deepnote_output_heights": [
     335
    ]
   },
   "source": "# Group df by seasons and then sum total_runs for every group\n\nseason = df_runs.groupby(['season'])['total_runs'].sum().reset_index()\nseason.set_index('season').plot(marker='o')\n\nplt.gcf().set_size_inches(10,5)\nplt.title('Total Runs Across the Seasons')\nplt.show()",
   "execution_count": 27,
   "outputs": [
    {
     "data": {
      "text/plain": "<Figure size 720x360 with 1 Axes>",
      "image/png": "[encoded data removed]"
     },
     "metadata": {
      "needs_background": "light",
      "image/png": {
       "width": 610,
       "height": 333
      }
     },
     "output_type": "display_data"
    }
   ]
  },
  {
   "cell_type": "markdown",
   "source": "**",
   "metadata": {
    "cell_id": "6c1eae5f75b043edab5a0e02b31ac79f",
    "tags": [],
    "deepnote_cell_type": "markdown",
    "deepnote_cell_height": 52.390625
   }
  },
  {
   "cell_type": "markdown",
   "source": "Lets see the outliers.",
   "metadata": {
    "cell_id": "bc77943b4458428094907506ae8c6487",
    "tags": [],
    "deepnote_cell_type": "markdown",
    "deepnote_cell_height": 52.390625
   }
  },
  {
   "cell_type": "code",
   "metadata": {
    "cell_id": "346cd3a8b27342ac986f4c733cba288e",
    "tags": [],
    "deepnote_to_be_reexecuted": false,
    "source_hash": "6cdd3842",
    "execution_start": 1658393828968,
    "execution_millis": 467,
    "deepnote_cell_type": "code",
    "deepnote_cell_height": 493,
    "deepnote_output_heights": [
     350.875
    ]
   },
   "source": "plt.figure(figsize=(15,6))\nmatch.boxplot()\nplt.show()",
   "execution_count": 28,
   "outputs": [
    {
     "data": {
      "text/plain": "<Figure size 1080x432 with 1 Axes>",
      "image/png": "[encoded data removed]"
     },
     "metadata": {
      "needs_background": "light",
      "image/png": {
       "width": 889,
       "height": 358
      }
     },
     "output_type": "display_data"
    }
   ]
  },
  {
   "cell_type": "markdown",
   "source": "**Teams1 and total winning match**",
   "metadata": {
    "cell_id": "cd4eeb65439a46e3925011ede83cd035",
    "tags": [],
    "deepnote_cell_type": "markdown",
    "deepnote_cell_height": 52.390625
   }
  },
  {
   "cell_type": "code",
   "metadata": {
    "cell_id": "a2d04b1b8e0346bbb3e404a99fc156ca",
    "tags": [],
    "deepnote_to_be_reexecuted": false,
    "source_hash": "fc10b861",
    "execution_start": 1658393829440,
    "execution_millis": 2049,
    "deepnote_cell_type": "code",
    "deepnote_cell_height": 658,
    "deepnote_output_heights": [
     495.8125
    ]
   },
   "source": "plt.figure(figsize=(15,6))\nsns.barplot(x=\"team1\",y=\"win_by_runs\", data=match)\nplt.xticks(rotation=90)\nplt.show()",
   "execution_count": 29,
   "outputs": [
    {
     "data": {
      "text/plain": "<Figure size 1080x432 with 1 Axes>",
      "image/png": "[encoded data removed]"
     },
     "metadata": {
      "needs_background": "light",
      "image/png": {
       "width": 886,
       "height": 505
      }
     },
     "output_type": "display_data"
    }
   ]
  },
  {
   "cell_type": "markdown",
   "source": "**Matches Per Team**",
   "metadata": {
    "cell_id": "b5c3f7549c674331a29a127fc3abb46f",
    "tags": [],
    "deepnote_cell_type": "markdown",
    "deepnote_cell_height": 52.390625
   }
  },
  {
   "cell_type": "code",
   "metadata": {
    "cell_id": "0b4a618cf77f45ca9243129209894d71",
    "tags": [],
    "deepnote_to_be_reexecuted": false,
    "source_hash": "bed37663",
    "execution_start": 1658393831186,
    "execution_millis": 783,
    "deepnote_cell_type": "code",
    "deepnote_cell_height": 772.453125,
    "deepnote_output_heights": [
     513.46875
    ]
   },
   "source": "no_match=pd.concat([match[\"team1\"], match[\"team2\"]])\nno_match=no_match.value_counts()\n\nplt.figure(figsize=(15,6))\nplt.bar(x=no_match.index,height=no_match.values, color=\"green\")\nplt.title(\"Matches per team\",fontsize=20)\nplt.xlabel(\"Team\")\nplt.ylabel(\"No of Matches\")\nplt.xticks(rotation=90)\nplt.show()",
   "execution_count": 30,
   "outputs": [
    {
     "data": {
      "text/plain": "<Figure size 1080x432 with 1 Axes>",
      "image/png": "[encoded data removed]"
     },
     "metadata": {
      "needs_background": "light",
      "image/png": {
       "width": 891,
       "height": 526
      }
     },
     "output_type": "display_data"
    }
   ]
  },
  {
   "cell_type": "markdown",
   "source": "**Season Winners**",
   "metadata": {
    "cell_id": "c898b3373f2a4b9aa70a47b2bbdb818d",
    "tags": [],
    "deepnote_cell_type": "markdown",
    "deepnote_cell_height": 52.390625
   }
  },
  {
   "cell_type": "code",
   "metadata": {
    "cell_id": "2914b257bbbc4c589cd548a6951d6089",
    "tags": [],
    "deepnote_to_be_reexecuted": false,
    "source_hash": "fb3f93ec",
    "execution_start": 1658393831977,
    "execution_millis": 50,
    "deepnote_cell_type": "code",
    "deepnote_cell_height": 348
   },
   "source": "for i in range(2008,2019):\n    df_winners=((match[match['season']==i]).iloc[-1])\n    print(df_winners[[1,10]].values)",
   "execution_count": 31,
   "outputs": [
    {
     "name": "stdout",
     "text": "[2008 'Rajasthan Royals']\n[2009 'Deccan Chargers']\n[2010 'Chennai Super Kings']\n[2011 'Chennai Super Kings']\n[2012 'Kolkata Knight Riders']\n[2013 'Mumbai Indians']\n[2014 'Kolkata Knight Riders']\n[2015 'Mumbai Indians']\n[2016 'Sunrisers Hyderabad']\n[2017 'Mumbai Indians']\n[2018 'Chennai Super Kings']\n",
     "output_type": "stream"
    }
   ]
  },
  {
   "cell_type": "markdown",
   "source": "**Team that wins most seasons**",
   "metadata": {
    "cell_id": "58d936840cf849b2b635a6ff55c28929",
    "tags": [],
    "deepnote_cell_type": "markdown",
    "deepnote_cell_height": 52.390625
   }
  },
  {
   "cell_type": "code",
   "metadata": {
    "cell_id": "d0f35b5a6041407399a52ac2ee0ddc78",
    "tags": [],
    "deepnote_to_be_reexecuted": false,
    "source_hash": "72614425",
    "execution_start": 1658393832036,
    "execution_millis": 35,
    "deepnote_cell_type": "code",
    "deepnote_cell_height": 250.796875
   },
   "source": "season_win=match.drop_duplicates(\"season\",keep=\"last\")\nseasonw= season_win[[\"season\",\"winner\"]]\nseasonw.sort_values(\"season\", inplace=True)\nseasonw.reset_index(inplace=True, drop=True)",
   "execution_count": 32,
   "outputs": [
    {
     "name": "stderr",
     "text": "<ipython-input-32-e16552793dc8>:3: SettingWithCopyWarning: \nA value is trying to be set on a copy of a slice from a DataFrame\n\nSee the caveats in the documentation: https://pandas.pydata.org/pandas-docs/stable/user_guide/indexing.html#returning-a-view-versus-a-copy\n  seasonw.sort_values(\"season\", inplace=True)\n",
     "output_type": "stream"
    }
   ]
  },
  {
   "cell_type": "code",
   "metadata": {
    "cell_id": "195de5a0c80e4876a343eb5ab32ba385",
    "tags": [],
    "deepnote_to_be_reexecuted": false,
    "source_hash": "b75416c1",
    "execution_start": 1658393832081,
    "execution_millis": 667,
    "deepnote_cell_type": "code",
    "deepnote_cell_height": 652,
    "deepnote_output_heights": [
     null,
     384
    ]
   },
   "source": "plt.subplots(figsize=(15,6))\nsns.countplot(\"winner\",data=seasonw, palette=\"rocket_r\")\nplt.title(\" Teams and theie Total Season won\",fontsize=20)\nplt.xlabel(\"Teams\")\nplt.ylabel(\"Season won\")\nplt.show()",
   "execution_count": 33,
   "outputs": [
    {
     "name": "stderr",
     "text": "/shared-libs/python3.9/py/lib/python3.9/site-packages/seaborn/_decorators.py:36: FutureWarning: Pass the following variable as a keyword arg: x. From version 0.12, the only valid positional argument will be `data`, and passing other arguments without an explicit keyword will result in an error or misinterpretation.\n  warnings.warn(\n",
     "output_type": "stream"
    },
    {
     "data": {
      "text/plain": "<Figure size 1080x432 with 1 Axes>",
      "image/png": "[encoded data removed]"
     },
     "metadata": {
      "needs_background": "light",
      "image/png": {
       "width": 888,
       "height": 392
      }
     },
     "output_type": "display_data"
    }
   ]
  },
  {
   "cell_type": "markdown",
   "source": "**Batsman with most runs**",
   "metadata": {
    "cell_id": "62debd0733f14b7e8dbdddc2812757d2",
    "tags": [],
    "deepnote_cell_type": "markdown",
    "deepnote_cell_height": 52.390625
   }
  },
  {
   "cell_type": "code",
   "metadata": {
    "cell_id": "54d26682521f41bf805174507cb155e8",
    "tags": [],
    "deepnote_to_be_reexecuted": false,
    "source_hash": "37e37b46",
    "execution_start": 1658393832765,
    "execution_millis": 43,
    "deepnote_cell_type": "code",
    "deepnote_cell_height": 99
   },
   "source": "top_scores =deli.groupby('batsman')['batsman_runs'].agg('sum').reset_index().sort_values(by='batsman_runs', ascending=False).reset_index(drop=True)\ntop_scores = top_scores.iloc[:10,:]",
   "execution_count": 34,
   "outputs": []
  },
  {
   "cell_type": "code",
   "metadata": {
    "cell_id": "199f16f8a4ac4cef972d52099cd48707",
    "tags": [],
    "deepnote_to_be_reexecuted": false,
    "source_hash": "86acf103",
    "execution_start": 1658393832822,
    "execution_millis": 1465,
    "deepnote_cell_type": "code",
    "deepnote_cell_height": 652,
    "deepnote_output_heights": [
     393
    ]
   },
   "source": "plt.figure(figsize=(9,5))\n\nsns.barplot(x=top_scores['batsman'], y=top_scores['batsman_runs'], palette='Wistia')\n\nplt.title('Top Runs Scored By Batsman', fontsize=15)\nplt.xlabel('Batsman Names')\nplt.ylabel('Runs Scored')\nplt.xticks(rotation=90)\n\nplt.show()",
   "execution_count": 35,
   "outputs": [
    {
     "data": {
      "text/plain": "<Figure size 648x360 with 1 Axes>",
      "image/png": "[encoded data removed]"
     },
     "metadata": {
      "needs_background": "light",
      "image/png": {
       "width": 562,
       "height": 391
      }
     },
     "output_type": "display_data"
    }
   ]
  },
  {
   "cell_type": "markdown",
   "source": "**Batsman with most sixes**",
   "metadata": {
    "cell_id": "f2a3512cd70645c093fa6bc58d239205",
    "tags": [],
    "deepnote_cell_type": "markdown",
    "deepnote_cell_height": 52.390625
   }
  },
  {
   "cell_type": "code",
   "metadata": {
    "cell_id": "7bb6c0f2936c444695433880d7abd044",
    "tags": [],
    "deepnote_to_be_reexecuted": false,
    "source_hash": "c2a618df",
    "execution_start": 1658393833650,
    "execution_millis": 897,
    "deepnote_cell_type": "code",
    "deepnote_cell_height": 706,
    "deepnote_output_heights": [
     393
    ]
   },
   "source": "most_sixes =deli.groupby('batsman')['batsman_runs'].agg(lambda x: (x==6).sum()).reset_index()\nmost_sixes = most_sixes.sort_values(by='batsman_runs',ascending=False).reset_index(drop=True)\nmost_sixes = most_sixes.iloc[:10,:]\n\nplt.figure(figsize=(9,5))\nsns.barplot(x=most_sixes['batsman'], y=most_sixes['batsman_runs'], palette='coolwarm')\n\nplt.title('Batsman with Most 6s', fontsize=15)\nplt.xlabel('Batsman Names')\nplt.ylabel('6s Scored')\nplt.xticks(rotation=90)\n\nplt.show()",
   "execution_count": 36,
   "outputs": [
    {
     "data": {
      "text/plain": "<Figure size 648x360 with 1 Axes>",
      "image/png": "[encoded data removed]"
     },
     "metadata": {
      "needs_background": "light",
      "image/png": {
       "width": 556,
       "height": 391
      }
     },
     "output_type": "display_data"
    }
   ]
  },
  {
   "cell_type": "markdown",
   "source": "**Bowler with most wickets**",
   "metadata": {
    "cell_id": "16c34aacc5ea4e5a92295aa5cd23b48b",
    "tags": [],
    "deepnote_cell_type": "markdown",
    "deepnote_cell_height": 52.390625
   }
  },
  {
   "cell_type": "code",
   "metadata": {
    "cell_id": "99be8c178b324341ae0e4dfe4f4f3e00",
    "tags": [],
    "deepnote_to_be_reexecuted": false,
    "source_hash": "4c55be21",
    "execution_start": 1658393834556,
    "execution_millis": 693,
    "deepnote_cell_type": "code",
    "deepnote_cell_height": 759,
    "deepnote_output_heights": [
     410
    ]
   },
   "source": "wickets= deli.groupby(\"bowler\")[\"ball\"].agg(\"count\").reset_index()\nwickets=wickets.sort_values(by=\"ball\", ascending=False).reset_index(drop=True)\nwickets =wickets.iloc[:10,:]\n\nplt.figure(figsize=(9,5))\n\nsns.barplot(x=wickets['bowler'], y=wickets['ball'], palette='summer')\n\nplt.title('Bowlers With Most Wickets', fontsize=15)\nplt.xlabel('Bowlers Names')\nplt.ylabel('Wickets Count')\nplt.xticks(rotation=90)\n\nplt.show()\n",
   "execution_count": 37,
   "outputs": [
    {
     "data": {
      "text/plain": "<Figure size 648x360 with 1 Axes>",
      "image/png": "[encoded data removed]"
     },
     "metadata": {
      "needs_background": "light",
      "image/png": {
       "width": 562,
       "height": 408
      }
     },
     "output_type": "display_data"
    }
   ]
  },
  {
   "cell_type": "markdown",
   "source": "<a style='text-decoration:none;line-height:16px;display:flex;color:#5B5B62;padding:10px;justify-content:end;' href='https://deepnote.com?utm_source=created-in-deepnote-cell&projectId=5e65b0e7-77de-49a3-af94-cd1eea604e8f' target=\"_blank\">\n<img alt='Created in deepnote.com' style='display:inline;max-height:16px;margin:0px;margin-right:7.5px;' src='data:image/svg+xml;base64,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' > </img>\nCreated in <span style='font-weight:600;margin-left:4px;'>Deepnote</span></a>",
   "metadata": {
    "tags": [],
    "created_in_deepnote_cell": true,
    "deepnote_cell_type": "markdown"
   }
  }
 ],
 "nbformat": 4,
 "nbformat_minor": 2,
 "metadata": {
  "orig_nbformat": 2,
  "deepnote": {},
  "deepnote_notebook_id": "4bcff200-5a9f-4fb9-af30-bd07344ce2b9",
  "deepnote_execution_queue": []
 }
}